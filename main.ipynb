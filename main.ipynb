{
 "cells": [
  {
   "cell_type": "markdown",
   "id": "9fee5ee9",
   "metadata": {},
   "source": [
    "# Modelo de Examen Practico - TLP3 - Python para Ciencia de Datos.\n"
   ]
  },
  {
   "cell_type": "markdown",
   "id": "999099d0",
   "metadata": {},
   "source": [
    "**A partir del datasets brindado, realizar los siguientes procedimientos:**\n",
    "\n",
    "* Importar datasets con Pandas.\n",
    "* Explorar los datos con los metodos correspondientes. \n",
    "* Limpieza de los datos (Normalización de datos).\n",
    "* Obtener estadisticas.\n",
    "* Mostrar los datos procesados con graficos utilizando la libreria Matplotlib.\n",
    "* Exportar el contenido a un archivo sqlite utilizando PANDAS.\n",
    "\n",
    "\n",
    "**Importante: Se debe documentar cada procedimiento realizado, siguiendo la siguiente estructura:**\n",
    "\n",
    "1. Celda de Markdown (Documentación)\n",
    "2. Código (Sin comentarios, se debe documentar lo sufiente solo en la celda de markdown)."
   ]
  },
  {
   "cell_type": "markdown",
   "id": "dd91f969",
   "metadata": {},
   "source": [
    "## Actividades: \n",
    "### 1. Importación del Dataset con Pandas\n",
    "\n",
    "En esta sección, se debe utilizar la librería Pandas para cargar el archivo CSV que contiene los datos de las calificaciones en un DataFrame, que es la estructura de datos fundamental para el análisis con Pandas.\n",
    "\n",
    "### 2. Exploración Inicial de los Datos\n",
    "\n",
    "A continuación, se deben emplear métodos de Pandas para obtener una visión general del dataset. Esto incluye mostrar las primeras filas, obtener un resumen de la información del DataFrame (tipos de datos, valores no nulos), y calcular estadísticas descriptivas de las columnas numéricas.\n",
    "\n",
    "### 3. Limpieza y Normalización de los Datos\n",
    "\n",
    "Esta etapa crucial deben aplicar la corrección de diversos errores presentes en el dataset. Se abordarán los valores faltantes, la inconsistencia en el formato de la columna 'Asistencia', los posibles valores atípicos y la normalización de los nombres de estudiantes y materias a un formato consistente (por ejemplo, capitalización).\n",
    "\n",
    "### 4. Obtención de Estadísticas Descriptivas\n",
    "\n",
    "Después de la limpieza, deben calcular nuevamente las estadísticas descriptivas para observar el impacto del proceso de limpieza en los datos numéricos. También se pueden calcular estadísticas específicas por grupo (por ejemplo, promedio de calificaciones por materia).\n",
    "\n",
    "### 5. Visualización de los Datos con Matplotlib\n",
    "\n",
    "En esta sección, deben utilizar la librería Matplotlib para crear visualizaciones que permitan comprender mejor la distribución de las calificaciones y la asistencia. Se generarán histogramas, diagramas de dispersión y gráficos de barras.\n",
    "\n",
    "### 6. Exportación a Archivo SQLite\n",
    "\n",
    "Finalmente, deben utilizar la funcionalidad de Pandas para guardar el DataFrame procesado en una base de datos SQLite. Esto permite almacenar los datos de forma estructurada para su posterior consulta y uso.\n",
    "\n"
   ]
  },
  {
   "cell_type": "markdown",
   "id": "bb04aaca",
   "metadata": {},
   "source": [
    "# Desarrollo de Actividades\n"
   ]
  },
  {
   "cell_type": "markdown",
   "id": "3d90fbe0",
   "metadata": {},
   "source": [
    "### Importacion de las dependencias\n",
    " Se importan bibliotecas necesarias para el analisis y visualizacion de datos:\n",
    "* `import pandas as pd` : permite la manipulacion y el analisis de datos.\n",
    "* `import matplotlib.pyplot as plt` : Permite la creacion de graficos estadisticos."
   ]
  },
  {
   "cell_type": "code",
   "execution_count": null,
   "id": "687317cb",
   "metadata": {},
   "outputs": [],
   "source": [
    "import pandas as pd \n",
    "import matplotlib.pyplot as plt\n",
    "import sqlite3 as sql\n"
   ]
  },
  {
   "cell_type": "markdown",
   "id": "29f60380",
   "metadata": {},
   "source": [
    "#### Carga de csv\n",
    "Se utiliza `read_csv` de Pandas para leer el archivo csv que contiene el dataset."
   ]
  },
  {
   "cell_type": "code",
   "execution_count": 6,
   "id": "5d922fd5",
   "metadata": {},
   "outputs": [],
   "source": [
    "df = pd.read_csv(\"datasets_calificaciones.csv\")\n"
   ]
  },
  {
   "cell_type": "markdown",
   "id": "2bfa6458",
   "metadata": {},
   "source": [
    "#### Acceder a los primeros 10 elementos: \n",
    "Con el metodo `head(10)` se puede acceder a los primeros 10 elementos del DataFrame."
   ]
  },
  {
   "cell_type": "code",
   "execution_count": 7,
   "id": "4079d33d",
   "metadata": {},
   "outputs": [
    {
     "data": {
      "text/html": [
       "<div>\n",
       "<style scoped>\n",
       "    .dataframe tbody tr th:only-of-type {\n",
       "        vertical-align: middle;\n",
       "    }\n",
       "\n",
       "    .dataframe tbody tr th {\n",
       "        vertical-align: top;\n",
       "    }\n",
       "\n",
       "    .dataframe thead th {\n",
       "        text-align: right;\n",
       "    }\n",
       "</style>\n",
       "<table border=\"1\" class=\"dataframe\">\n",
       "  <thead>\n",
       "    <tr style=\"text-align: right;\">\n",
       "      <th></th>\n",
       "      <th>estudiante</th>\n",
       "      <th>Materia</th>\n",
       "      <th>Parcial 1</th>\n",
       "      <th>Parcial 2</th>\n",
       "      <th>Final</th>\n",
       "      <th>Asistencia</th>\n",
       "    </tr>\n",
       "  </thead>\n",
       "  <tbody>\n",
       "    <tr>\n",
       "      <th>0</th>\n",
       "      <td>ana pérez</td>\n",
       "      <td>matematicas</td>\n",
       "      <td>8</td>\n",
       "      <td>7.5</td>\n",
       "      <td>9</td>\n",
       "      <td>95%</td>\n",
       "    </tr>\n",
       "    <tr>\n",
       "      <th>1</th>\n",
       "      <td>carlos lópez</td>\n",
       "      <td>fisica</td>\n",
       "      <td>6.2</td>\n",
       "      <td>7</td>\n",
       "      <td>NaN</td>\n",
       "      <td>88%</td>\n",
       "    </tr>\n",
       "    <tr>\n",
       "      <th>2</th>\n",
       "      <td>maría gómez</td>\n",
       "      <td>quimica</td>\n",
       "      <td>9</td>\n",
       "      <td>8.8</td>\n",
       "      <td>9.5</td>\n",
       "      <td>100%</td>\n",
       "    </tr>\n",
       "    <tr>\n",
       "      <th>3</th>\n",
       "      <td>pedro rodríguez</td>\n",
       "      <td>historia</td>\n",
       "      <td>7.5</td>\n",
       "      <td>6</td>\n",
       "      <td>7</td>\n",
       "      <td>75</td>\n",
       "    </tr>\n",
       "    <tr>\n",
       "      <th>4</th>\n",
       "      <td>laura vargas</td>\n",
       "      <td>matematicas</td>\n",
       "      <td></td>\n",
       "      <td>9.2</td>\n",
       "      <td>8.5</td>\n",
       "      <td>92%</td>\n",
       "    </tr>\n",
       "    <tr>\n",
       "      <th>5</th>\n",
       "      <td>javier soto</td>\n",
       "      <td>fisica</td>\n",
       "      <td>5.8</td>\n",
       "      <td>6.5</td>\n",
       "      <td>6</td>\n",
       "      <td>80%</td>\n",
       "    </tr>\n",
       "    <tr>\n",
       "      <th>6</th>\n",
       "      <td>sofia díaz</td>\n",
       "      <td>ciencias sociales</td>\n",
       "      <td>9.5</td>\n",
       "      <td>9.1</td>\n",
       "      <td></td>\n",
       "      <td>98%</td>\n",
       "    </tr>\n",
       "    <tr>\n",
       "      <th>7</th>\n",
       "      <td>miguel fernández</td>\n",
       "      <td>literatura universal</td>\n",
       "      <td>8</td>\n",
       "      <td>7.8</td>\n",
       "      <td>8.2</td>\n",
       "      <td>85%</td>\n",
       "    </tr>\n",
       "    <tr>\n",
       "      <th>8</th>\n",
       "      <td>valentina ruiz</td>\n",
       "      <td>matematicas</td>\n",
       "      <td>7</td>\n",
       "      <td></td>\n",
       "      <td>7.8</td>\n",
       "      <td>90%</td>\n",
       "    </tr>\n",
       "    <tr>\n",
       "      <th>9</th>\n",
       "      <td>diego castro</td>\n",
       "      <td>fisica</td>\n",
       "      <td>6.8</td>\n",
       "      <td>7.2</td>\n",
       "      <td>7.5</td>\n",
       "      <td>93%</td>\n",
       "    </tr>\n",
       "  </tbody>\n",
       "</table>\n",
       "</div>"
      ],
      "text/plain": [
       "         estudiante               Materia Parcial 1 Parcial 2 Final Asistencia\n",
       "0         ana pérez           matematicas         8       7.5     9        95%\n",
       "1      carlos lópez                fisica       6.2         7   NaN        88%\n",
       "2       maría gómez               quimica         9       8.8   9.5       100%\n",
       "3   pedro rodríguez              historia       7.5         6     7         75\n",
       "4      laura vargas           matematicas                 9.2   8.5        92%\n",
       "5       javier soto                fisica       5.8       6.5     6        80%\n",
       "6        sofia díaz     ciencias sociales       9.5       9.1              98%\n",
       "7  miguel fernández  literatura universal         8       7.8   8.2        85%\n",
       "8    valentina ruiz           matematicas         7             7.8        90%\n",
       "9      diego castro                fisica       6.8       7.2   7.5        93%"
      ]
     },
     "execution_count": 7,
     "metadata": {},
     "output_type": "execute_result"
    }
   ],
   "source": [
    "df.head(10)"
   ]
  },
  {
   "cell_type": "markdown",
   "id": "a6b45521",
   "metadata": {},
   "source": [
    "#### Exploracion inicial\n",
    "Se utiliza `df.info()` para obtener una vista general de la estructura del DataFrame:"
   ]
  },
  {
   "cell_type": "code",
   "execution_count": 8,
   "id": "c6fff74f",
   "metadata": {},
   "outputs": [
    {
     "name": "stdout",
     "output_type": "stream",
     "text": [
      "<class 'pandas.core.frame.DataFrame'>\n",
      "RangeIndex: 100 entries, 0 to 99\n",
      "Data columns (total 6 columns):\n",
      " #   Column      Non-Null Count  Dtype \n",
      "---  ------      --------------  ----- \n",
      " 0   estudiante  100 non-null    object\n",
      " 1   Materia     100 non-null    object\n",
      " 2   Parcial 1   95 non-null     object\n",
      " 3   Parcial 2   90 non-null     object\n",
      " 4   Final       89 non-null     object\n",
      " 5   Asistencia  100 non-null    object\n",
      "dtypes: object(6)\n",
      "memory usage: 4.8+ KB\n"
     ]
    }
   ],
   "source": [
    "df.info()"
   ]
  },
  {
   "cell_type": "markdown",
   "id": "2378c02e",
   "metadata": {},
   "source": [
    "#### Descripciones Estadistica de la DataFrame\n",
    "Con la funcion `df.describe()` se obtiene un resumen de las estadisticas para cada columna numerica"
   ]
  },
  {
   "cell_type": "code",
   "execution_count": 9,
   "id": "4bcfde7b",
   "metadata": {},
   "outputs": [
    {
     "data": {
      "text/html": [
       "<div>\n",
       "<style scoped>\n",
       "    .dataframe tbody tr th:only-of-type {\n",
       "        vertical-align: middle;\n",
       "    }\n",
       "\n",
       "    .dataframe tbody tr th {\n",
       "        vertical-align: top;\n",
       "    }\n",
       "\n",
       "    .dataframe thead th {\n",
       "        text-align: right;\n",
       "    }\n",
       "</style>\n",
       "<table border=\"1\" class=\"dataframe\">\n",
       "  <thead>\n",
       "    <tr style=\"text-align: right;\">\n",
       "      <th></th>\n",
       "      <th>estudiante</th>\n",
       "      <th>Materia</th>\n",
       "      <th>Parcial 1</th>\n",
       "      <th>Parcial 2</th>\n",
       "      <th>Final</th>\n",
       "      <th>Asistencia</th>\n",
       "    </tr>\n",
       "  </thead>\n",
       "  <tbody>\n",
       "    <tr>\n",
       "      <th>count</th>\n",
       "      <td>100</td>\n",
       "      <td>100</td>\n",
       "      <td>95</td>\n",
       "      <td>90</td>\n",
       "      <td>89</td>\n",
       "      <td>100</td>\n",
       "    </tr>\n",
       "    <tr>\n",
       "      <th>unique</th>\n",
       "      <td>96</td>\n",
       "      <td>7</td>\n",
       "      <td>49</td>\n",
       "      <td>45</td>\n",
       "      <td>46</td>\n",
       "      <td>35</td>\n",
       "    </tr>\n",
       "    <tr>\n",
       "      <th>top</th>\n",
       "      <td>mateo díaz</td>\n",
       "      <td>matematicas</td>\n",
       "      <td></td>\n",
       "      <td>7.5</td>\n",
       "      <td>9.5</td>\n",
       "      <td>99%</td>\n",
       "    </tr>\n",
       "    <tr>\n",
       "      <th>freq</th>\n",
       "      <td>2</td>\n",
       "      <td>25</td>\n",
       "      <td>7</td>\n",
       "      <td>5</td>\n",
       "      <td>4</td>\n",
       "      <td>5</td>\n",
       "    </tr>\n",
       "  </tbody>\n",
       "</table>\n",
       "</div>"
      ],
      "text/plain": [
       "        estudiante      Materia Parcial 1 Parcial 2 Final Asistencia\n",
       "count          100          100        95        90    89        100\n",
       "unique          96            7        49        45    46         35\n",
       "top     mateo díaz  matematicas                 7.5   9.5        99%\n",
       "freq             2           25         7         5     4          5"
      ]
     },
     "execution_count": 9,
     "metadata": {},
     "output_type": "execute_result"
    }
   ],
   "source": [
    "df.describe()"
   ]
  },
  {
   "cell_type": "markdown",
   "id": "9e90b01d",
   "metadata": {},
   "source": [
    "#### Identificacion de Valores nulos\n",
    "Se identifican la cantidad de valores nulos en cada columna de DataFrame"
   ]
  },
  {
   "cell_type": "code",
   "execution_count": 10,
   "id": "229d473d",
   "metadata": {},
   "outputs": [
    {
     "data": {
      "text/plain": [
       "estudiante     0\n",
       "Materia        0\n",
       "Parcial 1      5\n",
       "Parcial 2     10\n",
       "Final         11\n",
       "Asistencia     0\n",
       "dtype: int64"
      ]
     },
     "execution_count": 10,
     "metadata": {},
     "output_type": "execute_result"
    }
   ],
   "source": [
    "df.isnull().sum()"
   ]
  },
  {
   "cell_type": "markdown",
   "id": "35b49e1e",
   "metadata": {},
   "source": [
    "#### Tratamiento de valores nulos\n",
    "Se reemplazan los valores faltantes o vacios en las columnas por 0"
   ]
  },
  {
   "cell_type": "code",
   "execution_count": 18,
   "id": "55826b6d",
   "metadata": {},
   "outputs": [],
   "source": [
    "df[['Parcial 1', 'Parcial 2', 'Final']] = df[['Parcial 1', 'Parcial 2', 'Final']].replace(['', ' '], 0).fillna(0)"
   ]
  },
  {
   "cell_type": "markdown",
   "id": "9cbed668",
   "metadata": {},
   "source": [
    "* Luego de la conversion se hace una sumatoria total de valores nulos para verificar la ausencia de estos"
   ]
  },
  {
   "cell_type": "code",
   "execution_count": 19,
   "id": "09a7d8e6",
   "metadata": {},
   "outputs": [
    {
     "data": {
      "text/plain": [
       "estudiante    0\n",
       "Materia       0\n",
       "Parcial 1     0\n",
       "Parcial 2     0\n",
       "Final         0\n",
       "Asistencia    0\n",
       "dtype: int64"
      ]
     },
     "execution_count": 19,
     "metadata": {},
     "output_type": "execute_result"
    }
   ],
   "source": [
    "df.isnull().sum()"
   ]
  },
  {
   "cell_type": "markdown",
   "id": "1dd6535f",
   "metadata": {},
   "source": [
    "#### Conversion a Tipo Numerico(`float`)\n",
    "En el `df.info` se noto que las columnas se reconocen como **object** lo cual significa que se los toma como tipo texto, dado a lo asignado se recomienda pasar a tipo `float` para que los datos sean compatibles con el analisis y visualizaciones"
   ]
  },
  {
   "cell_type": "code",
   "execution_count": 23,
   "id": "bef9cbc5",
   "metadata": {},
   "outputs": [],
   "source": [
    "df[['Parcial 1', 'Parcial 2', 'Final']] = df[['Parcial 1', 'Parcial 2', 'Final']].astype(float)"
   ]
  },
  {
   "cell_type": "markdown",
   "id": "a5af42f5",
   "metadata": {},
   "source": [
    "#### Analisis de la DataFrame\n",
    "Luego de la conversion, volvemos a analisas nuesta DataFrame para contemplar los cambios hechos."
   ]
  },
  {
   "cell_type": "code",
   "execution_count": 24,
   "id": "da6fd79f",
   "metadata": {},
   "outputs": [
    {
     "data": {
      "text/html": [
       "<div>\n",
       "<style scoped>\n",
       "    .dataframe tbody tr th:only-of-type {\n",
       "        vertical-align: middle;\n",
       "    }\n",
       "\n",
       "    .dataframe tbody tr th {\n",
       "        vertical-align: top;\n",
       "    }\n",
       "\n",
       "    .dataframe thead th {\n",
       "        text-align: right;\n",
       "    }\n",
       "</style>\n",
       "<table border=\"1\" class=\"dataframe\">\n",
       "  <thead>\n",
       "    <tr style=\"text-align: right;\">\n",
       "      <th></th>\n",
       "      <th>estudiante</th>\n",
       "      <th>Materia</th>\n",
       "      <th>Parcial 1</th>\n",
       "      <th>Parcial 2</th>\n",
       "      <th>Final</th>\n",
       "      <th>Asistencia</th>\n",
       "    </tr>\n",
       "  </thead>\n",
       "  <tbody>\n",
       "    <tr>\n",
       "      <th>0</th>\n",
       "      <td>ana pérez</td>\n",
       "      <td>matematicas</td>\n",
       "      <td>8.0</td>\n",
       "      <td>7.5</td>\n",
       "      <td>9.0</td>\n",
       "      <td>95%</td>\n",
       "    </tr>\n",
       "    <tr>\n",
       "      <th>1</th>\n",
       "      <td>carlos lópez</td>\n",
       "      <td>fisica</td>\n",
       "      <td>6.2</td>\n",
       "      <td>7.0</td>\n",
       "      <td>0.0</td>\n",
       "      <td>88%</td>\n",
       "    </tr>\n",
       "    <tr>\n",
       "      <th>2</th>\n",
       "      <td>maría gómez</td>\n",
       "      <td>quimica</td>\n",
       "      <td>9.0</td>\n",
       "      <td>8.8</td>\n",
       "      <td>9.5</td>\n",
       "      <td>100%</td>\n",
       "    </tr>\n",
       "    <tr>\n",
       "      <th>3</th>\n",
       "      <td>pedro rodríguez</td>\n",
       "      <td>historia</td>\n",
       "      <td>7.5</td>\n",
       "      <td>6.0</td>\n",
       "      <td>7.0</td>\n",
       "      <td>75</td>\n",
       "    </tr>\n",
       "    <tr>\n",
       "      <th>4</th>\n",
       "      <td>laura vargas</td>\n",
       "      <td>matematicas</td>\n",
       "      <td>0.0</td>\n",
       "      <td>9.2</td>\n",
       "      <td>8.5</td>\n",
       "      <td>92%</td>\n",
       "    </tr>\n",
       "  </tbody>\n",
       "</table>\n",
       "</div>"
      ],
      "text/plain": [
       "        estudiante      Materia  Parcial 1  Parcial 2  Final Asistencia\n",
       "0        ana pérez  matematicas        8.0        7.5    9.0        95%\n",
       "1     carlos lópez       fisica        6.2        7.0    0.0        88%\n",
       "2      maría gómez      quimica        9.0        8.8    9.5       100%\n",
       "3  pedro rodríguez     historia        7.5        6.0    7.0         75\n",
       "4     laura vargas  matematicas        0.0        9.2    8.5        92%"
      ]
     },
     "execution_count": 24,
     "metadata": {},
     "output_type": "execute_result"
    }
   ],
   "source": [
    "df.head(5)"
   ]
  },
  {
   "cell_type": "markdown",
   "id": "8c4b40f9",
   "metadata": {},
   "source": [
    "#### Normalizacion de la columna Asistencia\n",
    "Limpieza de la columna y conversion de tipo texto a entero para facilitar luego los calculos estadisticos y graficos, tambien se aseguro que el rango maximo valido sea de 100"
   ]
  },
  {
   "cell_type": "code",
   "execution_count": 30,
   "id": "b4785fec",
   "metadata": {},
   "outputs": [
    {
     "name": "stderr",
     "output_type": "stream",
     "text": [
      "<>:1: SyntaxWarning: invalid escape sequence '\\%'\n",
      "<>:1: SyntaxWarning: invalid escape sequence '\\%'\n",
      "C:\\Users\\IPF-2025\\AppData\\Local\\Temp\\ipykernel_19172\\4268332747.py:1: SyntaxWarning: invalid escape sequence '\\%'\n",
      "  df['Asistencia'] = df['Asistencia'].replace(\"[\\%]\", \"\", regex=True).astype(int)\n"
     ]
    },
    {
     "data": {
      "text/html": [
       "<div>\n",
       "<style scoped>\n",
       "    .dataframe tbody tr th:only-of-type {\n",
       "        vertical-align: middle;\n",
       "    }\n",
       "\n",
       "    .dataframe tbody tr th {\n",
       "        vertical-align: top;\n",
       "    }\n",
       "\n",
       "    .dataframe thead th {\n",
       "        text-align: right;\n",
       "    }\n",
       "</style>\n",
       "<table border=\"1\" class=\"dataframe\">\n",
       "  <thead>\n",
       "    <tr style=\"text-align: right;\">\n",
       "      <th></th>\n",
       "      <th>estudiante</th>\n",
       "      <th>Materia</th>\n",
       "      <th>Parcial 1</th>\n",
       "      <th>Parcial 2</th>\n",
       "      <th>Final</th>\n",
       "      <th>Asistencia</th>\n",
       "    </tr>\n",
       "  </thead>\n",
       "  <tbody>\n",
       "    <tr>\n",
       "      <th>0</th>\n",
       "      <td>ana pérez</td>\n",
       "      <td>matematicas</td>\n",
       "      <td>8.0</td>\n",
       "      <td>7.5</td>\n",
       "      <td>9.0</td>\n",
       "      <td>95</td>\n",
       "    </tr>\n",
       "    <tr>\n",
       "      <th>1</th>\n",
       "      <td>carlos lópez</td>\n",
       "      <td>fisica</td>\n",
       "      <td>6.2</td>\n",
       "      <td>7.0</td>\n",
       "      <td>0.0</td>\n",
       "      <td>88</td>\n",
       "    </tr>\n",
       "    <tr>\n",
       "      <th>2</th>\n",
       "      <td>maría gómez</td>\n",
       "      <td>quimica</td>\n",
       "      <td>9.0</td>\n",
       "      <td>8.8</td>\n",
       "      <td>9.5</td>\n",
       "      <td>100</td>\n",
       "    </tr>\n",
       "    <tr>\n",
       "      <th>3</th>\n",
       "      <td>pedro rodríguez</td>\n",
       "      <td>historia</td>\n",
       "      <td>7.5</td>\n",
       "      <td>6.0</td>\n",
       "      <td>7.0</td>\n",
       "      <td>75</td>\n",
       "    </tr>\n",
       "    <tr>\n",
       "      <th>4</th>\n",
       "      <td>laura vargas</td>\n",
       "      <td>matematicas</td>\n",
       "      <td>0.0</td>\n",
       "      <td>9.2</td>\n",
       "      <td>8.5</td>\n",
       "      <td>92</td>\n",
       "    </tr>\n",
       "  </tbody>\n",
       "</table>\n",
       "</div>"
      ],
      "text/plain": [
       "        estudiante      Materia  Parcial 1  Parcial 2  Final  Asistencia\n",
       "0        ana pérez  matematicas        8.0        7.5    9.0          95\n",
       "1     carlos lópez       fisica        6.2        7.0    0.0          88\n",
       "2      maría gómez      quimica        9.0        8.8    9.5         100\n",
       "3  pedro rodríguez     historia        7.5        6.0    7.0          75\n",
       "4     laura vargas  matematicas        0.0        9.2    8.5          92"
      ]
     },
     "execution_count": 30,
     "metadata": {},
     "output_type": "execute_result"
    }
   ],
   "source": [
    "df['Asistencia'] = df['Asistencia'].replace(\"[\\%]\", \"\", regex=True).astype(int)\n",
    "df.loc[df['Asistencia'] > 100, 'Asistencia'] = 100\n",
    "df.head(5)"
   ]
  },
  {
   "cell_type": "markdown",
   "id": "a2824abc",
   "metadata": {},
   "source": [
    "#### Normalizacion de texto\n",
    "Se normalizan las columnas `estudiante` y `Materia` dandoles un formato de titulo (mayuscula en la primera letra de cada palabra)"
   ]
  },
  {
   "cell_type": "code",
   "execution_count": 35,
   "id": "0b0edac2",
   "metadata": {},
   "outputs": [
    {
     "data": {
      "text/html": [
       "<div>\n",
       "<style scoped>\n",
       "    .dataframe tbody tr th:only-of-type {\n",
       "        vertical-align: middle;\n",
       "    }\n",
       "\n",
       "    .dataframe tbody tr th {\n",
       "        vertical-align: top;\n",
       "    }\n",
       "\n",
       "    .dataframe thead th {\n",
       "        text-align: right;\n",
       "    }\n",
       "</style>\n",
       "<table border=\"1\" class=\"dataframe\">\n",
       "  <thead>\n",
       "    <tr style=\"text-align: right;\">\n",
       "      <th></th>\n",
       "      <th>estudiante</th>\n",
       "      <th>Materia</th>\n",
       "      <th>Parcial 1</th>\n",
       "      <th>Parcial 2</th>\n",
       "      <th>Final</th>\n",
       "      <th>Asistencia</th>\n",
       "    </tr>\n",
       "  </thead>\n",
       "  <tbody>\n",
       "    <tr>\n",
       "      <th>0</th>\n",
       "      <td>Ana Pérez</td>\n",
       "      <td>Matematicas</td>\n",
       "      <td>8.0</td>\n",
       "      <td>7.5</td>\n",
       "      <td>9.0</td>\n",
       "      <td>95</td>\n",
       "    </tr>\n",
       "    <tr>\n",
       "      <th>1</th>\n",
       "      <td>Carlos López</td>\n",
       "      <td>Fisica</td>\n",
       "      <td>6.2</td>\n",
       "      <td>7.0</td>\n",
       "      <td>0.0</td>\n",
       "      <td>88</td>\n",
       "    </tr>\n",
       "    <tr>\n",
       "      <th>2</th>\n",
       "      <td>María Gómez</td>\n",
       "      <td>Quimica</td>\n",
       "      <td>9.0</td>\n",
       "      <td>8.8</td>\n",
       "      <td>9.5</td>\n",
       "      <td>100</td>\n",
       "    </tr>\n",
       "    <tr>\n",
       "      <th>3</th>\n",
       "      <td>Pedro Rodríguez</td>\n",
       "      <td>Historia</td>\n",
       "      <td>7.5</td>\n",
       "      <td>6.0</td>\n",
       "      <td>7.0</td>\n",
       "      <td>75</td>\n",
       "    </tr>\n",
       "    <tr>\n",
       "      <th>4</th>\n",
       "      <td>Laura Vargas</td>\n",
       "      <td>Matematicas</td>\n",
       "      <td>0.0</td>\n",
       "      <td>9.2</td>\n",
       "      <td>8.5</td>\n",
       "      <td>92</td>\n",
       "    </tr>\n",
       "    <tr>\n",
       "      <th>5</th>\n",
       "      <td>Javier Soto</td>\n",
       "      <td>Fisica</td>\n",
       "      <td>5.8</td>\n",
       "      <td>6.5</td>\n",
       "      <td>6.0</td>\n",
       "      <td>80</td>\n",
       "    </tr>\n",
       "    <tr>\n",
       "      <th>6</th>\n",
       "      <td>Sofia Díaz</td>\n",
       "      <td>Ciencias Sociales</td>\n",
       "      <td>9.5</td>\n",
       "      <td>9.1</td>\n",
       "      <td>0.0</td>\n",
       "      <td>98</td>\n",
       "    </tr>\n",
       "    <tr>\n",
       "      <th>7</th>\n",
       "      <td>Miguel Fernández</td>\n",
       "      <td>Literatura Universal</td>\n",
       "      <td>8.0</td>\n",
       "      <td>7.8</td>\n",
       "      <td>8.2</td>\n",
       "      <td>85</td>\n",
       "    </tr>\n",
       "    <tr>\n",
       "      <th>8</th>\n",
       "      <td>Valentina Ruiz</td>\n",
       "      <td>Matematicas</td>\n",
       "      <td>7.0</td>\n",
       "      <td>0.0</td>\n",
       "      <td>7.8</td>\n",
       "      <td>90</td>\n",
       "    </tr>\n",
       "    <tr>\n",
       "      <th>9</th>\n",
       "      <td>Diego Castro</td>\n",
       "      <td>Fisica</td>\n",
       "      <td>6.8</td>\n",
       "      <td>7.2</td>\n",
       "      <td>7.5</td>\n",
       "      <td>93</td>\n",
       "    </tr>\n",
       "  </tbody>\n",
       "</table>\n",
       "</div>"
      ],
      "text/plain": [
       "         estudiante               Materia  Parcial 1  Parcial 2  Final  \\\n",
       "0         Ana Pérez           Matematicas        8.0        7.5    9.0   \n",
       "1      Carlos López                Fisica        6.2        7.0    0.0   \n",
       "2       María Gómez               Quimica        9.0        8.8    9.5   \n",
       "3   Pedro Rodríguez              Historia        7.5        6.0    7.0   \n",
       "4      Laura Vargas           Matematicas        0.0        9.2    8.5   \n",
       "5       Javier Soto                Fisica        5.8        6.5    6.0   \n",
       "6        Sofia Díaz     Ciencias Sociales        9.5        9.1    0.0   \n",
       "7  Miguel Fernández  Literatura Universal        8.0        7.8    8.2   \n",
       "8    Valentina Ruiz           Matematicas        7.0        0.0    7.8   \n",
       "9      Diego Castro                Fisica        6.8        7.2    7.5   \n",
       "\n",
       "   Asistencia  \n",
       "0          95  \n",
       "1          88  \n",
       "2         100  \n",
       "3          75  \n",
       "4          92  \n",
       "5          80  \n",
       "6          98  \n",
       "7          85  \n",
       "8          90  \n",
       "9          93  "
      ]
     },
     "execution_count": 35,
     "metadata": {},
     "output_type": "execute_result"
    }
   ],
   "source": [
    "df['Materia'] = df['Materia'].str.title()\n",
    "df['estudiante'] = df['estudiante'].str.title()\n",
    "df.head(10)"
   ]
  },
  {
   "cell_type": "markdown",
   "id": "c6225cb9",
   "metadata": {},
   "source": [
    "### Calcular numeros estadisticos finales\n",
    "Con la limpieza y normalizacion ya hechos ahora podemos ver las estadisticas con mas claridad"
   ]
  },
  {
   "cell_type": "code",
   "execution_count": 36,
   "id": "65807eaf",
   "metadata": {},
   "outputs": [
    {
     "data": {
      "text/html": [
       "<div>\n",
       "<style scoped>\n",
       "    .dataframe tbody tr th:only-of-type {\n",
       "        vertical-align: middle;\n",
       "    }\n",
       "\n",
       "    .dataframe tbody tr th {\n",
       "        vertical-align: top;\n",
       "    }\n",
       "\n",
       "    .dataframe thead th {\n",
       "        text-align: right;\n",
       "    }\n",
       "</style>\n",
       "<table border=\"1\" class=\"dataframe\">\n",
       "  <thead>\n",
       "    <tr style=\"text-align: right;\">\n",
       "      <th></th>\n",
       "      <th>Parcial 1</th>\n",
       "      <th>Parcial 2</th>\n",
       "      <th>Final</th>\n",
       "      <th>Asistencia</th>\n",
       "    </tr>\n",
       "  </thead>\n",
       "  <tbody>\n",
       "    <tr>\n",
       "      <th>count</th>\n",
       "      <td>100.00000</td>\n",
       "      <td>100.000000</td>\n",
       "      <td>100.000000</td>\n",
       "      <td>100.000000</td>\n",
       "    </tr>\n",
       "    <tr>\n",
       "      <th>mean</th>\n",
       "      <td>6.89200</td>\n",
       "      <td>6.891000</td>\n",
       "      <td>6.710000</td>\n",
       "      <td>88.180000</td>\n",
       "    </tr>\n",
       "    <tr>\n",
       "      <th>std</th>\n",
       "      <td>2.79804</td>\n",
       "      <td>2.787566</td>\n",
       "      <td>3.043075</td>\n",
       "      <td>8.445165</td>\n",
       "    </tr>\n",
       "    <tr>\n",
       "      <th>min</th>\n",
       "      <td>0.00000</td>\n",
       "      <td>0.000000</td>\n",
       "      <td>0.000000</td>\n",
       "      <td>70.000000</td>\n",
       "    </tr>\n",
       "    <tr>\n",
       "      <th>25%</th>\n",
       "      <td>6.37500</td>\n",
       "      <td>6.500000</td>\n",
       "      <td>6.375000</td>\n",
       "      <td>81.750000</td>\n",
       "    </tr>\n",
       "    <tr>\n",
       "      <th>50%</th>\n",
       "      <td>7.60000</td>\n",
       "      <td>7.500000</td>\n",
       "      <td>7.450000</td>\n",
       "      <td>88.500000</td>\n",
       "    </tr>\n",
       "    <tr>\n",
       "      <th>75%</th>\n",
       "      <td>8.80000</td>\n",
       "      <td>8.800000</td>\n",
       "      <td>8.825000</td>\n",
       "      <td>96.000000</td>\n",
       "    </tr>\n",
       "    <tr>\n",
       "      <th>max</th>\n",
       "      <td>9.90000</td>\n",
       "      <td>9.900000</td>\n",
       "      <td>9.900000</td>\n",
       "      <td>100.000000</td>\n",
       "    </tr>\n",
       "  </tbody>\n",
       "</table>\n",
       "</div>"
      ],
      "text/plain": [
       "       Parcial 1   Parcial 2       Final  Asistencia\n",
       "count  100.00000  100.000000  100.000000  100.000000\n",
       "mean     6.89200    6.891000    6.710000   88.180000\n",
       "std      2.79804    2.787566    3.043075    8.445165\n",
       "min      0.00000    0.000000    0.000000   70.000000\n",
       "25%      6.37500    6.500000    6.375000   81.750000\n",
       "50%      7.60000    7.500000    7.450000   88.500000\n",
       "75%      8.80000    8.800000    8.825000   96.000000\n",
       "max      9.90000    9.900000    9.900000  100.000000"
      ]
     },
     "execution_count": 36,
     "metadata": {},
     "output_type": "execute_result"
    }
   ],
   "source": [
    "df.describe()"
   ]
  },
  {
   "cell_type": "markdown",
   "id": "169ad209",
   "metadata": {},
   "source": [
    "#### Promedio de calificaciones por Materia\n",
    "Se utiliza `groupby()` para agrupar los datos por la columna Materia y se calcula el promedio de cada tipo de calificación (Parcial 1, Parcial 2 y Final)"
   ]
  },
  {
   "cell_type": "code",
   "execution_count": 44,
   "id": "d72c379d",
   "metadata": {},
   "outputs": [
    {
     "name": "stdout",
     "output_type": "stream",
     "text": [
      "Calificaciones por Materia:\n",
      "\n",
      "                       Parcial 1  Parcial 2     Final\n",
      "Materia                                             \n",
      "Ciencias Sociales      9.500000   9.100000  0.000000\n",
      "Fisica                 4.941667   5.870833  6.295833\n",
      "Historia               7.375000   6.700000  6.166667\n",
      "Literatura Universal   8.000000   7.800000  8.200000\n",
      "Matematicas            6.208000   5.756000  7.208000\n",
      "Programacion Basica    0.000000   5.900000  6.300000\n",
      "Quimica                9.204167   9.195833  7.383333\n"
     ]
    }
   ],
   "source": [
    "calificaciones_materia =df.groupby('Materia')[['Parcial 1','Parcial 2', 'Final']].mean()\n",
    "print(\"Calificaciones por Materia:\")\n",
    "print(\"\\n\",calificaciones_materia)"
   ]
  },
  {
   "cell_type": "markdown",
   "id": "8b28cfed",
   "metadata": {},
   "source": [
    "#### Promedio por Materias"
   ]
  },
  {
   "cell_type": "code",
   "execution_count": 78,
   "id": "0e8a73a2",
   "metadata": {},
   "outputs": [
    {
     "name": "stdout",
     "output_type": "stream",
     "text": [
      "Materia\n",
      "Ciencias Sociales       0.000000\n",
      "Historia                6.166667\n",
      "Fisica                  6.295833\n",
      "Programacion Basica     6.300000\n",
      "Matematicas             7.208000\n",
      "Quimica                 7.383333\n",
      "Literatura Universal    8.200000\n",
      "Name: Final, dtype: float64\n"
     ]
    }
   ],
   "source": [
    "promedios = df.groupby('Materia')['Final'].mean().sort_values()\n",
    "print(promedios)"
   ]
  },
  {
   "cell_type": "markdown",
   "id": "e6bc4188",
   "metadata": {},
   "source": [
    "#### Promedio de asistencia\n"
   ]
  },
  {
   "cell_type": "code",
   "execution_count": 39,
   "id": "b87f03a2",
   "metadata": {},
   "outputs": [
    {
     "name": "stdout",
     "output_type": "stream",
     "text": [
      "El Promedio de asistencia es: 88.18\n"
     ]
    }
   ],
   "source": [
    "promedio_asistencia = df['Asistencia'].mean()\n",
    "print(\"El Promedio de asistencia es:\", promedio_asistencia)"
   ]
  },
  {
   "cell_type": "markdown",
   "id": "36292d82",
   "metadata": {},
   "source": [
    "#### Mejores Notas de Matematica"
   ]
  },
  {
   "cell_type": "code",
   "execution_count": 86,
   "id": "1caa5e7f",
   "metadata": {},
   "outputs": [
    {
     "name": "stdout",
     "output_type": "stream",
     "text": [
      "           estudiante  Final\n",
      "60     Santino Torres    9.6\n",
      "24      Máximo Castro    9.5\n",
      "40      Felipe Vargas    9.4\n",
      "80    Benjamín Castro    9.2\n",
      "12       Martina Soto    9.1\n",
      "0           Ana Pérez    9.0\n",
      "32     Benicio Torres    8.9\n",
      "52      Thiago Castro    8.8\n",
      "92  Benicio Fernández    8.8\n",
      "16        Abril Gómez    8.6\n"
     ]
    }
   ],
   "source": [
    "mejor_nota = df[df['Materia'] == 'Matematicas'][['estudiante', 'Final']].sort_values('Final', ascending=False).head(10)\n",
    "print(mejor_nota)"
   ]
  },
  {
   "cell_type": "markdown",
   "id": "d5c6441a",
   "metadata": {},
   "source": [
    "#### Promedio de Nota Final"
   ]
  },
  {
   "cell_type": "code",
   "execution_count": 52,
   "id": "2c68035a",
   "metadata": {},
   "outputs": [
    {
     "name": "stdout",
     "output_type": "stream",
     "text": [
      "Promedio de nota final: 6.71\n"
     ]
    }
   ],
   "source": [
    "promedio_nota_final = df['Final'].mean()\n",
    "print(\"Promedio de nota final:\", promedio_nota_final)"
   ]
  },
  {
   "cell_type": "markdown",
   "id": "7c094136",
   "metadata": {},
   "source": [
    "#### Nota Maxima y Minima por Materia"
   ]
  },
  {
   "cell_type": "code",
   "execution_count": 61,
   "id": "7d6ef037",
   "metadata": {},
   "outputs": [
    {
     "data": {
      "text/html": [
       "<div>\n",
       "<style scoped>\n",
       "    .dataframe tbody tr th:only-of-type {\n",
       "        vertical-align: middle;\n",
       "    }\n",
       "\n",
       "    .dataframe tbody tr th {\n",
       "        vertical-align: top;\n",
       "    }\n",
       "\n",
       "    .dataframe thead tr th {\n",
       "        text-align: left;\n",
       "    }\n",
       "\n",
       "    .dataframe thead tr:last-of-type th {\n",
       "        text-align: right;\n",
       "    }\n",
       "</style>\n",
       "<table border=\"1\" class=\"dataframe\">\n",
       "  <thead>\n",
       "    <tr>\n",
       "      <th></th>\n",
       "      <th colspan=\"2\" halign=\"left\">Final</th>\n",
       "    </tr>\n",
       "    <tr>\n",
       "      <th></th>\n",
       "      <th>max</th>\n",
       "      <th>min</th>\n",
       "    </tr>\n",
       "    <tr>\n",
       "      <th>Materia</th>\n",
       "      <th></th>\n",
       "      <th></th>\n",
       "    </tr>\n",
       "  </thead>\n",
       "  <tbody>\n",
       "    <tr>\n",
       "      <th>Ciencias Sociales</th>\n",
       "      <td>0.0</td>\n",
       "      <td>0.0</td>\n",
       "    </tr>\n",
       "    <tr>\n",
       "      <th>Fisica</th>\n",
       "      <td>8.1</td>\n",
       "      <td>0.0</td>\n",
       "    </tr>\n",
       "    <tr>\n",
       "      <th>Historia</th>\n",
       "      <td>8.8</td>\n",
       "      <td>0.0</td>\n",
       "    </tr>\n",
       "    <tr>\n",
       "      <th>Literatura Universal</th>\n",
       "      <td>8.2</td>\n",
       "      <td>8.2</td>\n",
       "    </tr>\n",
       "    <tr>\n",
       "      <th>Matematicas</th>\n",
       "      <td>9.6</td>\n",
       "      <td>0.0</td>\n",
       "    </tr>\n",
       "    <tr>\n",
       "      <th>Programacion Basica</th>\n",
       "      <td>6.3</td>\n",
       "      <td>6.3</td>\n",
       "    </tr>\n",
       "    <tr>\n",
       "      <th>Quimica</th>\n",
       "      <td>9.9</td>\n",
       "      <td>0.0</td>\n",
       "    </tr>\n",
       "  </tbody>\n",
       "</table>\n",
       "</div>"
      ],
      "text/plain": [
       "                     Final     \n",
       "                       max  min\n",
       "Materia                        \n",
       "Ciencias Sociales      0.0  0.0\n",
       "Fisica                 8.1  0.0\n",
       "Historia               8.8  0.0\n",
       "Literatura Universal   8.2  8.2\n",
       "Matematicas            9.6  0.0\n",
       "Programacion Basica    6.3  6.3\n",
       "Quimica                9.9  0.0"
      ]
     },
     "execution_count": 61,
     "metadata": {},
     "output_type": "execute_result"
    }
   ],
   "source": [
    "df.groupby('Materia')[['Final']].agg(['max','min'])"
   ]
  },
  {
   "cell_type": "markdown",
   "id": "b275cb64",
   "metadata": {},
   "source": [
    "### Graficos"
   ]
  },
  {
   "cell_type": "markdown",
   "id": "ec444064",
   "metadata": {},
   "source": [
    "####  Histograma de Notas Finales\n",
    "Se utiliza un histograma para visualizar la distribución de las calificaciones finales de los estudiantes:"
   ]
  },
  {
   "cell_type": "code",
   "execution_count": 67,
   "id": "8366c6c5",
   "metadata": {},
   "outputs": [
    {
     "data": {
      "image/png": "[encoded data removed]",
      "text/plain": [
       "<Figure size 600x500 with 1 Axes>"
      ]
     },
     "metadata": {},
     "output_type": "display_data"
    }
   ],
   "source": [
    "plt.figure(figsize=(6,5))\n",
    "plt.hist(df['Final'], color='pink', edgecolor='black')\n",
    "plt.title(\"Notas Finales de estudiantes\")\n",
    "plt.xlabel(\"Final\")\n",
    "plt.ylabel(\"Cantidad de estudiantes\")\n",
    "plt.grid(True)\n",
    "plt.show()\n"
   ]
  },
  {
   "cell_type": "markdown",
   "id": "db931be2",
   "metadata": {},
   "source": [
    "#### Histograma de Asistencia\n",
    "Se genera un histograma para observar la distribución de los porcentajes de asistencia entre los estudiantes:\n"
   ]
  },
  {
   "cell_type": "code",
   "execution_count": 94,
   "id": "70a1ad36",
   "metadata": {},
   "outputs": [
    {
     "data": {
      "image/png": "[encoded data removed]",
      "text/plain": [
       "<Figure size 600x500 with 1 Axes>"
      ]
     },
     "metadata": {},
     "output_type": "display_data"
    }
   ],
   "source": [
    "plt.figure(figsize=(6,5))\n",
    "plt.hist(df['Asistencia'], color='brown', edgecolor='black')\n",
    "plt.title(\"Asistencia estudiantes\")\n",
    "plt.xlabel(\"Asistencia\")\n",
    "plt.ylabel(\"Cantidad de estudiantes\")\n",
    "plt.grid(True)\n",
    "plt.show()"
   ]
  },
  {
   "cell_type": "markdown",
   "id": "af26d0e2",
   "metadata": {},
   "source": [
    "#### Promedio de Nota Final por Materia\n",
    "Este gráfico permite visualizar el promedio de la calificación final obtenida por los estudiantes en cada materia. "
   ]
  },
  {
   "cell_type": "code",
   "execution_count": 99,
   "id": "086ceead",
   "metadata": {},
   "outputs": [
    {
     "data": {
      "image/png": "[encoded data removed]",
      "text/plain": [
       "<Figure size 800x500 with 1 Axes>"
      ]
     },
     "metadata": {},
     "output_type": "display_data"
    }
   ],
   "source": [
    "\n",
    "plt.figure(figsize=( 8,5))\n",
    "promedios.plot(kind='barh', color='violet', edgecolor='black')\n",
    "plt.title(\"Promedio de Nota Final por Materia\")\n",
    "plt.xlabel(\"Nota Promedio\")\n",
    "plt.ylabel(\"Materia\")\n",
    "plt.grid(axis='x', linestyle='-',)\n",
    "plt.show()\n"
   ]
  },
  {
   "cell_type": "markdown",
   "id": "38beb3e9",
   "metadata": {},
   "source": [
    "####  Relación entre Asistencia y Nota Final\n",
    "Este gráfico permite analizar si existe una relación entre el porcentaje de asistencia y las notas finales obtenidas por los estudiantes."
   ]
  },
  {
   "cell_type": "code",
   "execution_count": 103,
   "id": "590b2b37",
   "metadata": {},
   "outputs": [
    {
     "data": {
      "image/png": "[encoded data removed]",
      "text/plain": [
       "<Figure size 600x500 with 1 Axes>"
      ]
     },
     "metadata": {},
     "output_type": "display_data"
    }
   ],
   "source": [
    "plt.figure(figsize=(6, 5))\n",
    "plt.scatter(df['Asistencia'], df['Final'], color='mediumseagreen', edgecolor='black')\n",
    "plt.title(\"Relación entre Asistencia y Nota Final\")\n",
    "plt.xlabel(\"Asistencia\")\n",
    "plt.ylabel(\"Nota Final\")\n",
    "plt.grid(True)\n",
    "plt.show()\n"
   ]
  },
  {
   "cell_type": "markdown",
   "id": "5888299f",
   "metadata": {},
   "source": [
    "#### Estudiantes con Mejor Nota Final\n",
    "Se construye un gráfico de barras horizontales para destacar los estudiantes que obtuvieron la nota final más alta."
   ]
  },
  {
   "cell_type": "code",
   "execution_count": null,
   "id": "4ff0dc5e",
   "metadata": {},
   "outputs": [
    {
     "data": {
      "image/png": "[encoded data removed]",
      "text/plain": [
       "<Figure size 800x500 with 1 Axes>"
      ]
     },
     "metadata": {},
     "output_type": "display_data"
    }
   ],
   "source": [
    "mejor_nota.plot(x='estudiante', y='Final', kind='barh', color='lightblue', edgecolor='black', figsize=(8, 5))\n",
    "plt.title(\"Mejor Nota Final\")\n",
    "plt.xlabel(\"Nota\")\n",
    "plt.ylabel(\"Estudiante\")\n",
    "plt.grid(axis='x', linestyle='-')\n",
    "plt.show()\n"
   ]
  }
 ],
 "metadata": {
  "kernelspec": {
   "display_name": "env",
   "language": "python",
   "name": "python3"
  },
  "language_info": {
   "codemirror_mode": {
    "name": "ipython",
    "version": 3
   },
   "file_extension": ".py",
   "mimetype": "text/x-python",
   "name": "python",
   "nbconvert_exporter": "python",
   "pygments_lexer": "ipython3",
   "version": "3.13.2"
  }
 },
 "nbformat": 4,
 "nbformat_minor": 5
}
